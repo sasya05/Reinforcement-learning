{
  "nbformat": 4,
  "nbformat_minor": 0,
  "metadata": {
    "colab": {
      "provenance": [],
      "authorship_tag": "ABX9TyN3E2/PmFLFEZOrRjlL6ayH",
      "include_colab_link": true
    },
    "kernelspec": {
      "name": "python3",
      "display_name": "Python 3"
    },
    "language_info": {
      "name": "python"
    }
  },
  "cells": [
    {
      "cell_type": "markdown",
      "metadata": {
        "id": "view-in-github",
        "colab_type": "text"
      },
      "source": [
        "<a href=\"https://colab.research.google.com/github/sasya05/Reinforcement-learning/blob/main/Lab-10.ipynb\" target=\"_parent\"><img src=\"https://colab.research.google.com/assets/colab-badge.svg\" alt=\"Open In Colab\"/></a>"
      ]
    },
    {
      "cell_type": "code",
      "source": [
        "# ===============================\n",
        "# ✅ Multi-Agent Reinforcement Learning Example\n",
        "# ✅ Environment: PettingZoo MPE simple_spread_v3\n",
        "# ✅ Algorithm: PPO (Stable-Baselines3)\n",
        "# ===============================\n",
        "\n",
        "# --- Install dependencies (uncomment if needed) ---\n",
        "# !pip install \"gymnasium[classic_control]\" \"pettingzoo[mpe]\" stable-baselines3 supersuit --quiet\n",
        "\n",
        "import gymnasium as gym\n",
        "import supersuit as ss\n",
        "from pettingzoo.mpe import simple_spread_v3\n",
        "from stable_baselines3 import PPO\n",
        "\n",
        "# ----------------------------\n",
        "# 1️⃣ Create a parallel PettingZoo environment\n",
        "# ----------------------------\n",
        "env = simple_spread_v3.parallel_env(\n",
        "    N=2,                # Number of agents\n",
        "    local_ratio=0.5,    # Reward sharing\n",
        "    max_cycles=25,      # Steps per episode\n",
        "    continuous_actions=False\n",
        ")\n",
        "\n",
        "# ----------------------------\n",
        "# 2️⃣ Wrap environment for Stable-Baselines3\n",
        "# ----------------------------\n",
        "env = ss.pettingzoo_env_to_vec_env_v1(env)\n",
        "env = ss.concat_vec_envs_v1(env, num_vec_envs=2, num_cpus=1, base_class='stable_baselines3')\n",
        "\n",
        "# ----------------------------\n",
        "# 3️⃣ Train a PPO agent\n",
        "# ----------------------------\n",
        "model = PPO(\"MlpPolicy\", env, verbose=1)\n",
        "model.learn(total_timesteps=20000)\n",
        "\n",
        "# ----------------------------\n",
        "# 4️⃣ Evaluate trained policy\n",
        "# ----------------------------\n",
        "obs = env.reset()\n",
        "for step in range(10):\n",
        "    action, _ = model.predict(obs, deterministic=True)\n",
        "    obs, reward, done, info = env.step(action)\n",
        "    print(f\"Step {step+1} | Reward: {reward}\")\n",
        "    if done.any():\n",
        "        obs = env.reset()\n",
        "\n",
        "env.close()\n",
        "print(\"\\n✅ Training and evaluation complete!\")\n"
      ],
      "metadata": {
        "colab": {
          "base_uri": "https://localhost:8080/"
        },
        "id": "0-ISygHveUho",
        "outputId": "0c481f50-ecd0-4ff6-e832-5058bf0446cd"
      },
      "execution_count": 4,
      "outputs": [
        {
          "output_type": "stream",
          "name": "stderr",
          "text": [
            "/tmp/ipython-input-1997335669.py:12: DeprecationWarning: The environment `pettingzoo.mpe` has been moved to `mpe2` and will be removed in a future release.Please update your imports.\n",
            "  from pettingzoo.mpe import simple_spread_v3\n",
            "/usr/local/lib/python3.12/dist-packages/pettingzoo/utils/deprecated_module.py:70: DeprecationWarning: The environment `pettingzoo.mpe.simple_spread_v3` has been moved to `mpe2.simple_spread_v3` and will be removed in a future release. Please update your imports.\n",
            "  spec.loader.exec_module(module)\n"
          ]
        },
        {
          "output_type": "stream",
          "name": "stdout",
          "text": [
            "Using cpu device\n",
            "-----------------------------\n",
            "| time/              |      |\n",
            "|    fps             | 2657 |\n",
            "|    iterations      | 1    |\n",
            "|    time_elapsed    | 3    |\n",
            "|    total_timesteps | 8192 |\n",
            "-----------------------------\n"
          ]
        },
        {
          "output_type": "stream",
          "name": "stderr",
          "text": [
            "/usr/local/lib/python3.12/dist-packages/jupyter_client/session.py:203: DeprecationWarning: datetime.datetime.utcnow() is deprecated and scheduled for removal in a future version. Use timezone-aware objects to represent datetimes in UTC: datetime.datetime.now(datetime.UTC).\n",
            "  return datetime.utcnow().replace(tzinfo=utc)\n"
          ]
        },
        {
          "output_type": "stream",
          "name": "stdout",
          "text": [
            "------------------------------------------\n",
            "| time/                   |              |\n",
            "|    fps                  | 1440         |\n",
            "|    iterations           | 2            |\n",
            "|    time_elapsed         | 11           |\n",
            "|    total_timesteps      | 16384        |\n",
            "| train/                  |              |\n",
            "|    approx_kl            | 0.0070123216 |\n",
            "|    clip_fraction        | 0.0535       |\n",
            "|    clip_range           | 0.2          |\n",
            "|    entropy_loss         | -1.6         |\n",
            "|    explained_variance   | -0.000977    |\n",
            "|    learning_rate        | 0.0003       |\n",
            "|    loss                 | 7.26         |\n",
            "|    n_updates            | 10           |\n",
            "|    policy_gradient_loss | -0.00625     |\n",
            "|    value_loss           | 23.2         |\n",
            "------------------------------------------\n",
            "----------------------------------------\n",
            "| time/                   |            |\n",
            "|    fps                  | 1255       |\n",
            "|    iterations           | 3          |\n",
            "|    time_elapsed         | 19         |\n",
            "|    total_timesteps      | 24576      |\n",
            "| train/                  |            |\n",
            "|    approx_kl            | 0.00690677 |\n",
            "|    clip_fraction        | 0.0523     |\n",
            "|    clip_range           | 0.2        |\n",
            "|    entropy_loss         | -1.6       |\n",
            "|    explained_variance   | -0.00961   |\n",
            "|    learning_rate        | 0.0003     |\n",
            "|    loss                 | 13         |\n",
            "|    n_updates            | 20         |\n",
            "|    policy_gradient_loss | -0.0061    |\n",
            "|    value_loss           | 27         |\n",
            "----------------------------------------\n",
            "Step 1 | Reward: [-0.97171134 -0.97171134 -0.647146   -0.647146  ]\n",
            "Step 2 | Reward: [-0.9588213 -0.9588213 -0.647146  -0.647146 ]\n",
            "Step 3 | Reward: [-0.9412439 -0.9412439 -0.647146  -0.647146 ]\n",
            "Step 4 | Reward: [-0.92815053 -0.92815053 -0.647146   -0.647146  ]\n",
            "Step 5 | Reward: [-0.8579311 -0.8579311 -0.647146  -0.647146 ]\n",
            "Step 6 | Reward: [-0.7942234 -0.7942234 -0.647146  -0.647146 ]\n",
            "Step 7 | Reward: [-0.7535349 -0.7535349 -0.647146  -0.647146 ]\n",
            "Step 8 | Reward: [-0.7460309 -0.7460309 -0.647146  -0.647146 ]\n",
            "Step 9 | Reward: [-0.7775763 -0.7775763 -0.647146  -0.647146 ]\n",
            "Step 10 | Reward: [-0.84815603 -0.84815603 -0.647146   -0.647146  ]\n",
            "\n",
            "✅ Training and evaluation complete!\n"
          ]
        }
      ]
    }
  ]
}